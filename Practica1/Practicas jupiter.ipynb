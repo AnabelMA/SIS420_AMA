{
 "cells": [
  {
   "cell_type": "markdown",
   "id": "74aed9e2",
   "metadata": {},
   "source": [
    "IMPRIMIENDO EL EJEMPLO"
   ]
  },
  {
   "cell_type": "code",
   "execution_count": 3,
   "id": "6b0ec0a9",
   "metadata": {},
   "outputs": [
    {
     "name": "stdout",
     "output_type": "stream",
     "text": [
      "Sammy the shark is my favorite sea creature\n"
     ]
    }
   ],
   "source": [
    "print (\"Sammy the shark is my favorite sea creature\")"
   ]
  },
  {
   "cell_type": "markdown",
   "id": "7fc7326a",
   "metadata": {},
   "source": [
    "Usando el metodo print, podemos imprimer cadenas de tipo letra"
   ]
  },
  {
   "cell_type": "markdown",
   "id": "30603e08",
   "metadata": {},
   "source": [
    "DIVICION"
   ]
  },
  {
   "cell_type": "code",
   "execution_count": 6,
   "id": "c5a4baf4",
   "metadata": {},
   "outputs": [],
   "source": [
    "a = 5/2"
   ]
  },
  {
   "cell_type": "code",
   "execution_count": 8,
   "id": "599f5310",
   "metadata": {},
   "outputs": [
    {
     "data": {
      "text/plain": [
       "2.5"
      ]
     },
     "execution_count": 8,
     "metadata": {},
     "output_type": "execute_result"
    }
   ],
   "source": [
    "a"
   ]
  },
  {
   "cell_type": "markdown",
   "id": "ff5de960",
   "metadata": {},
   "source": [
    "Almacenando en una variable de tipo entero 'a' nos da un resultado de tipo flotante."
   ]
  },
  {
   "cell_type": "code",
   "execution_count": 9,
   "id": "f752c361",
   "metadata": {},
   "outputs": [],
   "source": [
    "b = 5//2"
   ]
  },
  {
   "cell_type": "code",
   "execution_count": 10,
   "id": "2b1b0439",
   "metadata": {},
   "outputs": [
    {
     "data": {
      "text/plain": [
       "2"
      ]
     },
     "execution_count": 10,
     "metadata": {},
     "output_type": "execute_result"
    }
   ],
   "source": [
    "b"
   ]
  },
  {
   "cell_type": "markdown",
   "id": "e9c49760",
   "metadata": {},
   "source": [
    "Almacenando en una variable de tipo entero 'b' nos da un resultado de tipo entero."
   ]
  },
  {
   "cell_type": "code",
   "execution_count": 12,
   "id": "fa9137a4",
   "metadata": {},
   "outputs": [
    {
     "name": "stdout",
     "output_type": "stream",
     "text": [
      "Me parecio algo util el uso de estos mètodos.\n"
     ]
    }
   ],
   "source": [
    "print (\"Me parecio algo util el uso de estos mètodos.\")"
   ]
  },
  {
   "cell_type": "code",
   "execution_count": null,
   "id": "bed17974",
   "metadata": {},
   "outputs": [],
   "source": []
  }
 ],
 "metadata": {
  "kernelspec": {
   "display_name": "Python 3 (ipykernel)",
   "language": "python",
   "name": "python3"
  },
  "language_info": {
   "codemirror_mode": {
    "name": "ipython",
    "version": 3
   },
   "file_extension": ".py",
   "mimetype": "text/x-python",
   "name": "python",
   "nbconvert_exporter": "python",
   "pygments_lexer": "ipython3",
   "version": "3.9.12"
  }
 },
 "nbformat": 4,
 "nbformat_minor": 5
}
